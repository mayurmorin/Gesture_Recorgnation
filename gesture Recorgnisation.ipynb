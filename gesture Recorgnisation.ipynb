{
 "cells": [
  {
   "cell_type": "code",
   "execution_count": 1,
   "metadata": {},
   "outputs": [],
   "source": [
    "import cv2, time, pandas \n",
    "# importing datetime class from datetime library \n",
    "from datetime import datetime \n",
    "  \n"
   ]
  },
  {
   "cell_type": "code",
   "execution_count": 2,
   "metadata": {},
   "outputs": [],
   "source": [
    "# Assigning our static_back to None \n",
    "static_back = None\n",
    "  \n",
    "# List when any moving object appear \n",
    "motion_list = [ None, None ] \n",
    "  \n",
    " \n",
    "  "
   ]
  },
  {
   "cell_type": "code",
   "execution_count": 3,
   "metadata": {},
   "outputs": [],
   "source": [
    "# Time of movement \n",
    "time = [] \n",
    "  \n",
    "# Initializing DataFrame, one column is start  \n",
    "# time and other column is end time \n",
    "df = pandas.DataFrame(columns = [\"Start\", \"End\"]) \n",
    "  \n"
   ]
  },
  {
   "cell_type": "code",
   "execution_count": 4,
   "metadata": {},
   "outputs": [],
   "source": [
    "# Capturing video \n",
    "video = cv2.VideoCapture(0) \n",
    "  \n"
   ]
  },
  {
   "cell_type": "code",
   "execution_count": 5,
   "metadata": {},
   "outputs": [],
   "source": [
    "# Infinite while loop to treat stack of image as video \n",
    "while True: \n",
    "    # Reading frame(image) from video \n",
    "    check, frame = video.read() \n",
    "  \n",
    "    # Initializing motion = 0(no motion) \n",
    "    motion = 0\n",
    "  \n",
    "    # Converting color image to gray_scale image \n",
    "    gray = cv2.cvtColor(frame, cv2.COLOR_BGR2GRAY) \n",
    "  \n",
    "    # Converting gray scale image to GaussianBlur  \n",
    "    # so that change can be find easily \n",
    "    gray = cv2.GaussianBlur(gray, (21, 21), 0) \n",
    "  \n",
    "    # In first iteration we assign the value  \n",
    "    # of static_back to our first frame \n",
    "    if static_back is None: \n",
    "        static_back = gray \n",
    "        continue\n",
    "  \n",
    "    # Difference between static background  \n",
    "    # and current frame(which is GaussianBlur) \n",
    "    diff_frame = cv2.absdiff(static_back, gray) \n",
    "  \n",
    "    # If change in between static background and \n",
    "    # current frame is greater than 30 it will show white color(255) \n",
    "    thresh_frame = cv2.threshold(diff_frame, 45, 255, cv2.THRESH_BINARY)[1] \n",
    "    thresh_frame = cv2.dilate(thresh_frame, None, iterations = 2) \n",
    "  \n",
    "    # Finding contour of moving object \n",
    "    (_, cnts, _) = cv2.findContours(thresh_frame.copy(),\n",
    "                                    cv2.RETR_EXTERNAL, cv2.CHAIN_APPROX_SIMPLE) \n",
    "  \n",
    "    for contour in cnts: \n",
    "        if cv2.contourArea(contour) < 10000: \n",
    "            continue\n",
    "        motion = 1\n",
    "  \n",
    "        (x, y, w, h) = cv2.boundingRect(contour) \n",
    "        # making green rectangle arround the moving object \n",
    "        cv2.rectangle(frame, (x, y), (x + w, y + h), (0, 255, 0), 3) \n",
    "  \n",
    "    # Appending status of motion \n",
    "    motion_list.append(motion) \n",
    "  \n",
    "    motion_list = motion_list[-2:] \n",
    "  \n",
    "    # Appending Start time of motion \n",
    "    if motion_list[-1] == 1 and motion_list[-2] == 0: \n",
    "        time.append(datetime.now()) \n",
    "  \n",
    "    # Appending End time of motion \n",
    "    if motion_list[-1] == 0 and motion_list[-2] == 1: \n",
    "        time.append(datetime.now()) \n",
    "  \n",
    "    # Displaying image in gray_scale \n",
    "    cv2.imshow(\"Gray Frame\", gray) \n",
    "  \n",
    "    # Displaying the difference in currentframe to \n",
    "    # the staticframe(very first_frame) \n",
    "    cv2.imshow(\"Difference Frame\", diff_frame) \n",
    "  \n",
    "    # Displaying the black and white image in which if \n",
    "    # intencity difference greater than 30 it will appear white \n",
    "    cv2.imshow(\"Threshold Frame\", thresh_frame) \n",
    "  \n",
    "    # Displaying color frame with contour of motion of object \n",
    "    cv2.imshow(\"Color Frame\", frame) \n",
    "  \n",
    "    key = cv2.waitKey(1) \n",
    "    # if q entered whole process will stop \n",
    "    if key == ord('q'): \n",
    "        # if something is movingthen it append the end time of movement \n",
    "        if motion == 1: \n",
    "            time.append(datetime.now()) \n",
    "        break\n",
    "\n",
    "\n"
   ]
  },
  {
   "cell_type": "code",
   "execution_count": 1,
   "metadata": {},
   "outputs": [
    {
     "ename": "NameError",
     "evalue": "name 'time' is not defined",
     "output_type": "error",
     "traceback": [
      "\u001b[0;31m---------------------------------------------------------------------------\u001b[0m",
      "\u001b[0;31mNameError\u001b[0m                                 Traceback (most recent call last)",
      "\u001b[0;32m<ipython-input-1-0eada8076e01>\u001b[0m in \u001b[0;36m<module>\u001b[0;34m()\u001b[0m\n\u001b[1;32m      1\u001b[0m \u001b[0;31m# Appending time of motion in DataFrame\u001b[0m\u001b[0;34m\u001b[0m\u001b[0;34m\u001b[0m\u001b[0;34m\u001b[0m\u001b[0m\n\u001b[0;32m----> 2\u001b[0;31m \u001b[0;32mfor\u001b[0m \u001b[0mi\u001b[0m \u001b[0;32min\u001b[0m \u001b[0mrange\u001b[0m\u001b[0;34m(\u001b[0m\u001b[0;36m0\u001b[0m\u001b[0;34m,\u001b[0m \u001b[0mlen\u001b[0m\u001b[0;34m(\u001b[0m\u001b[0mtime\u001b[0m\u001b[0;34m)\u001b[0m\u001b[0;34m,\u001b[0m \u001b[0;36m6\u001b[0m\u001b[0;34m)\u001b[0m\u001b[0;34m:\u001b[0m\u001b[0;34m\u001b[0m\u001b[0;34m\u001b[0m\u001b[0m\n\u001b[0m\u001b[1;32m      3\u001b[0m     \u001b[0mdf\u001b[0m \u001b[0;34m=\u001b[0m \u001b[0mdf\u001b[0m\u001b[0;34m.\u001b[0m\u001b[0mappend\u001b[0m\u001b[0;34m(\u001b[0m\u001b[0;34m{\u001b[0m\u001b[0;34m\"Start\"\u001b[0m\u001b[0;34m:\u001b[0m\u001b[0mtime\u001b[0m\u001b[0;34m[\u001b[0m\u001b[0mi\u001b[0m\u001b[0;34m]\u001b[0m\u001b[0;34m,\u001b[0m \u001b[0;34m\"End\"\u001b[0m\u001b[0;34m:\u001b[0m\u001b[0mtime\u001b[0m\u001b[0;34m[\u001b[0m\u001b[0mi\u001b[0m \u001b[0;34m+\u001b[0m \u001b[0;36m1\u001b[0m\u001b[0;34m]\u001b[0m\u001b[0;34m}\u001b[0m\u001b[0;34m,\u001b[0m \u001b[0mignore_index\u001b[0m \u001b[0;34m=\u001b[0m \u001b[0;32mTrue\u001b[0m\u001b[0;34m)\u001b[0m\u001b[0;34m\u001b[0m\u001b[0;34m\u001b[0m\u001b[0m\n\u001b[1;32m      4\u001b[0m \u001b[0;34m\u001b[0m\u001b[0m\n\u001b[1;32m      5\u001b[0m       \u001b[0;31m# Creating a csv file in which time of movements will be saved\u001b[0m\u001b[0;34m\u001b[0m\u001b[0;34m\u001b[0m\u001b[0;34m\u001b[0m\u001b[0m\n",
      "\u001b[0;31mNameError\u001b[0m: name 'time' is not defined"
     ]
    }
   ],
   "source": [
    "# Appending time of motion in DataFrame \n",
    "for i in range(0, len(time), 6):\n",
    "    df = df.append({\"Start\":time[i], \"End\":time[i + 1]}, ignore_index = True) \n",
    "  \n",
    "      # Creating a csv file in which time of movements will be saved \n",
    "df.to_csv(\"Time_of_movements.csv\") \n",
    "  \n",
    "video.release() \n",
    "  \n",
    "      # Destroying all the windows \n",
    "cv2.destroyAllWindows() "
   ]
  },
  {
   "cell_type": "code",
   "execution_count": null,
   "metadata": {},
   "outputs": [],
   "source": []
  }
 ],
 "metadata": {
  "kernelspec": {
   "display_name": "Python 3",
   "language": "python",
   "name": "python3"
  },
  "language_info": {
   "codemirror_mode": {
    "name": "ipython",
    "version": 3
   },
   "file_extension": ".py",
   "mimetype": "text/x-python",
   "name": "python",
   "nbconvert_exporter": "python",
   "pygments_lexer": "ipython3",
   "version": "3.7.2"
  }
 },
 "nbformat": 4,
 "nbformat_minor": 2
}
